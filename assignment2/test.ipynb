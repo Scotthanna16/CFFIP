{
 "cells": [
  {
   "cell_type": "code",
   "execution_count": 13,
   "id": "1c5d335d",
   "metadata": {},
   "outputs": [
    {
     "name": "stdout",
     "output_type": "stream",
     "text": [
      "The autoreload extension is already loaded. To reload it, use:\n",
      "  %reload_ext autoreload\n"
     ]
    }
   ],
   "source": [
    "%load_ext autoreload\n",
    "%autoreload 2"
   ]
  },
  {
   "cell_type": "code",
   "execution_count": 14,
   "id": "ccd90524",
   "metadata": {},
   "outputs": [],
   "source": [
    "from portfolio.portfolio import Portfolio\n",
    "from models import Signal, MarketAction"
   ]
  },
  {
   "cell_type": "code",
   "execution_count": 15,
   "id": "23aa47e0",
   "metadata": {},
   "outputs": [
    {
     "ename": "PortfolioUpdateError",
     "evalue": "Short selling not allowed for AAPL",
     "output_type": "error",
     "traceback": [
      "\u001b[31m---------------------------------------------------------------------------\u001b[39m",
      "\u001b[31mPortfolioUpdateError\u001b[39m                      Traceback (most recent call last)",
      "\u001b[36mCell\u001b[39m\u001b[36m \u001b[39m\u001b[32mIn[15]\u001b[39m\u001b[32m, line 4\u001b[39m\n\u001b[32m      2\u001b[39m b = Signal(symbol=\u001b[33m\"\u001b[39m\u001b[33mAAPL\u001b[39m\u001b[33m\"\u001b[39m, quantity=\u001b[32m10\u001b[39m, price=\u001b[32m150.0\u001b[39m, action=MarketAction.BUY)\n\u001b[32m      3\u001b[39m s = Signal(symbol=\u001b[33m\"\u001b[39m\u001b[33mAAPL\u001b[39m\u001b[33m\"\u001b[39m, quantity=\u001b[32m5\u001b[39m, price=\u001b[32m155.0\u001b[39m, action=MarketAction.SELL)\n\u001b[32m----> \u001b[39m\u001b[32m4\u001b[39m \u001b[43mp\u001b[49m\u001b[43m.\u001b[49m\u001b[43mexecute_signal\u001b[49m\u001b[43m(\u001b[49m\u001b[43ms\u001b[49m\u001b[43m)\u001b[49m\n",
      "\u001b[36mFile \u001b[39m\u001b[32m~/dev/finm32500/assignment2_new/portfolio/portfolio.py:119\u001b[39m, in \u001b[36mexecute_signal\u001b[39m\u001b[34m(self, signal)\u001b[39m\n\u001b[32m    116\u001b[39m if price < 0:\n\u001b[32m    117\u001b[39m     raise PortfolioUpdateError(\"Price cannot be negative\")\n\u001b[32m--> \u001b[39m\u001b[32m119\u001b[39m # position = self._assets.get(symbol, {\"quantity\": 0, \"avg_price\": 0.0})\n\u001b[32m    120\u001b[39m position = self.get_position(symbol)\n\u001b[32m    122\u001b[39m new_quantity = position[\"quantity\"] + quantity\n",
      "\u001b[36mFile \u001b[39m\u001b[32m~/dev/finm32500/assignment2_new/portfolio/portfolio.py:24\u001b[39m, in \u001b[36m_validate_update\u001b[39m\u001b[34m(self, symbol, quantity, price)\u001b[39m\n\u001b[32m     23\u001b[39m \u001b[38;5;28;01mclass\u001b[39;00m\u001b[38;5;250m \u001b[39m\u001b[34;01mPortfolio\u001b[39;00m:\n\u001b[32m---> \u001b[39m\u001b[32m24\u001b[39m \u001b[38;5;250m    \u001b[39m\u001b[33;03m\"\"\"\u001b[39;00m\n\u001b[32m     25\u001b[39m \u001b[33;03m    Manages a collection of financial assets with position tracking and NAV calculations.\u001b[39;00m\n\u001b[32m     26\u001b[39m \n\u001b[32m     27\u001b[39m \u001b[33;03m    This class handles portfolio state management, including position updates,\u001b[39;00m\n\u001b[32m     28\u001b[39m \u001b[33;03m    cash balance tracking, and NAV calculations with support for both long\u001b[39;00m\n\u001b[32m     29\u001b[39m \u001b[33;03m    and short positions.\u001b[39;00m\n\u001b[32m     30\u001b[39m \u001b[33;03m    \"\"\"\u001b[39;00m\n\u001b[32m     32\u001b[39m     \u001b[38;5;28;01mdef\u001b[39;00m\u001b[38;5;250m \u001b[39m\u001b[34m__init__\u001b[39m(\n\u001b[32m     33\u001b[39m         \u001b[38;5;28mself\u001b[39m,\n\u001b[32m     34\u001b[39m         cash: \u001b[38;5;28mfloat\u001b[39m = DEFAULT_INITIAL_CASH,\n\u001b[32m     35\u001b[39m         short: \u001b[38;5;28mbool\u001b[39m = \u001b[38;5;28;01mFalse\u001b[39;00m,\n\u001b[32m     36\u001b[39m         negative_cash: \u001b[38;5;28mbool\u001b[39m = \u001b[38;5;28;01mFalse\u001b[39;00m,\n\u001b[32m     37\u001b[39m     ) -> \u001b[38;5;28;01mNone\u001b[39;00m:\n\u001b[32m     38\u001b[39m \u001b[38;5;250m        \u001b[39m\u001b[33;03m\"\"\"\u001b[39;00m\n\u001b[32m     39\u001b[39m \u001b[33;03m        Initialize the Portfolio class.\u001b[39;00m\n\u001b[32m     40\u001b[39m \n\u001b[32m   (...)\u001b[39m\u001b[32m     43\u001b[39m \u001b[33;03m            allow_short: Whether short selling is allowed. Defaults to False.\u001b[39;00m\n\u001b[32m     44\u001b[39m \u001b[33;03m        \"\"\"\u001b[39;00m\n",
      "\u001b[31mPortfolioUpdateError\u001b[39m: Short selling not allowed for AAPL"
     ]
    }
   ],
   "source": [
    "p = Portfolio(cash=10000.0)\n",
    "b = Signal(symbol=\"AAPL\", quantity=10, price=150.0, action=MarketAction.BUY)\n",
    "s = Signal(symbol=\"AAPL\", quantity=5, price=155.0, action=MarketAction.SELL)\n",
    "p.execute_signal(s)"
   ]
  },
  {
   "cell_type": "code",
   "execution_count": null,
   "id": "01469c7b",
   "metadata": {},
   "outputs": [],
   "source": []
  }
 ],
 "metadata": {
  "kernelspec": {
   "display_name": "venv",
   "language": "python",
   "name": "python3"
  },
  "language_info": {
   "codemirror_mode": {
    "name": "ipython",
    "version": 3
   },
   "file_extension": ".py",
   "mimetype": "text/x-python",
   "name": "python",
   "nbconvert_exporter": "python",
   "pygments_lexer": "ipython3",
   "version": "3.13.6"
  }
 },
 "nbformat": 4,
 "nbformat_minor": 5
}
